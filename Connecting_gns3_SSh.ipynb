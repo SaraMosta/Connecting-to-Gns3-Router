{
 "cells": [
  {
   "cell_type": "code",
   "execution_count": 1,
   "id": "bbb7552c",
   "metadata": {},
   "outputs": [],
   "source": [
    "from netmiko import ConnectHandler\n",
    "\n",
    "# Router details\n",
    "device = {\n",
    "    'host': '192.168.1.5',  \n",
    "    'username': 'sara',  \n",
    "    'password': '123', \n",
    "    'device_type': 'cisco_ios',\n",
    "    'secret': '123',  \n",
    "}\n"
   ]
  },
  {
   "cell_type": "code",
   "execution_count": 8,
   "id": "7d60bfcd",
   "metadata": {},
   "outputs": [],
   "source": [
    "\n",
    "# Connect to the router\n",
    "net_connect = ConnectHandler(**device)\n",
    "net_connect.enable()\n",
    "#change to 4IT\n",
    "\n",
    "output = net_connect.send_command(\"configure terminal\", expect_string='#')\n",
    "output += net_connect.send_command(\"hostname 4IT\", expect_string='#')\n"
   ]
  },
  {
   "cell_type": "code",
   "execution_count": 3,
   "id": "051c85ed",
   "metadata": {},
   "outputs": [],
   "source": [
    "# Set password to Router\n",
    "output += net_connect.send_command('enablepassword  123')\n"
   ]
  },
  {
   "cell_type": "code",
   "execution_count": 4,
   "id": "3d5e2447",
   "metadata": {},
   "outputs": [],
   "source": [
    "# Give the Router port f0/0 IP 192.168.1.5/24\n",
    "output += net_connect.send_command('interface FastEthernet0/0', expect_string=r\"config-if\")\n",
    "output += net_connect.send_command('ip address 192.168.1.5 255.255.255.0')\n",
    "output += net_connect.send_command('no shutdown')\n"
   ]
  },
  {
   "cell_type": "code",
   "execution_count": 5,
   "id": "3f515fb1",
   "metadata": {},
   "outputs": [],
   "source": [
    "# Create VLAN IT and assign port f0/0 to VLAN\n",
    "output += net_connect.send_command('interface FastEthernet0/0.10', expect_string=r\"#\")\n",
    "output += net_connect.send_command('encapsulation dot1Q 10')\n",
    "output += net_connect.send_command('ip address 192.168.10.1 255.255.255.0')\n",
    "output += net_connect.send_command('no shutdown')\n",
    "\n"
   ]
  },
  {
   "cell_type": "code",
   "execution_count": 6,
   "id": "f919f6fe",
   "metadata": {},
   "outputs": [],
   "source": [
    "# Exit configuration mode\n",
    "output += net_connect.send_command('end', expect_string=r\"#\")\n",
    "output += net_connect.send_command('write memory', expect_string=r\"#\")\n"
   ]
  },
  {
   "cell_type": "code",
   "execution_count": 7,
   "id": "443c7554",
   "metadata": {},
   "outputs": [
    {
     "name": "stdout",
     "output_type": "stream",
     "text": [
      "Configuration applied successfully.\n"
     ]
    }
   ],
   "source": [
    "# Close the connection\n",
    "net_connect.disconnect()\n",
    "\n",
    "print(\"Configuration applied successfully.\")"
   ]
  },
  {
   "cell_type": "code",
   "execution_count": null,
   "id": "0e98c2a3",
   "metadata": {},
   "outputs": [],
   "source": []
  }
 ],
 "metadata": {
  "kernelspec": {
   "display_name": "Python 3 (ipykernel)",
   "language": "python",
   "name": "python3"
  },
  "language_info": {
   "codemirror_mode": {
    "name": "ipython",
    "version": 3
   },
   "file_extension": ".py",
   "mimetype": "text/x-python",
   "name": "python",
   "nbconvert_exporter": "python",
   "pygments_lexer": "ipython3",
   "version": "3.9.13"
  }
 },
 "nbformat": 4,
 "nbformat_minor": 5
}
